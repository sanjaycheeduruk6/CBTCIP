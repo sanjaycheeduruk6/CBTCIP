{
  "nbformat": 4,
  "nbformat_minor": 0,
  "metadata": {
    "colab": {
      "provenance": [],
      "authorship_tag": "ABX9TyPGCSp2iKEIKWuSoo2+TfFb",
      "include_colab_link": true
    },
    "kernelspec": {
      "name": "python3",
      "display_name": "Python 3"
    },
    "language_info": {
      "name": "python"
    }
  },
  "cells": [
    {
      "cell_type": "markdown",
      "metadata": {
        "id": "view-in-github",
        "colab_type": "text"
      },
      "source": [
        "<a href=\"https://colab.research.google.com/github/sanjaycheeduruk6/CBTCIP/blob/main/mastermind.ipynb\" target=\"_parent\"><img src=\"https://colab.research.google.com/assets/colab-badge.svg\" alt=\"Open In Colab\"/></a>"
      ]
    },
    {
      "cell_type": "code",
      "execution_count": null,
      "metadata": {
        "id": "yyUASBRn_yav",
        "colab": {
          "base_uri": "https://localhost:8080/"
        },
        "outputId": "62312a57-bae5-41ce-95a3-945b60483190"
      },
      "outputs": [
        {
          "metadata": {
            "tags": null
          },
          "name": "stdout",
          "output_type": "stream",
          "text": [
            "♦♦♦WEl COME TO THE MASTERMIND NAME☺♦♦♦!\n"
          ]
        }
      ],
      "source": [
        "import random\n",
        "\n",
        "def acceptable(num):\n",
        "  while True:\n",
        "    guessed_num=input(\"enter the {} digits number:\".format(num))\n",
        "    if guessed_num.isdigit() and len(guessed_num)==num:\n",
        "      return guessed_num\n",
        "    print(\"sorry it is Wrong guess.please enter the a {}digit number.\".format(num))\n",
        "\n",
        "\n",
        "def hints(secret_num,guessed_num):\n",
        "  h=[]\n",
        "  for i ,c in enumerate(secret_num):\n",
        "    if c==guessed_num[i]:\n",
        "      h.append(c)\n",
        "    else:\n",
        "      h.append('*')\n",
        "  return ''.join(h)\n",
        "\n",
        "\n",
        "def master_game():\n",
        "  print('♦♦♦WEl COME TO THE MASTERMIND NAME☺♦♦♦!')\n",
        "  # print(\"Now player one will set the {}digit number.\".format(num))\n",
        "  num=int(input(\"Enter the number of digits for the secret number:\"))\n",
        "  secret_num= ''.join(random.choices('0123456789',k=num))\n",
        "  print('Now Its time for the player2 to guess the number☻☺')\n",
        "  guess_count1=0\n",
        "  while True:\n",
        "    guessed_num=acceptable(num)\n",
        "    guess_count1 +=1\n",
        "    if  guessed_num == secret_num:\n",
        "\n",
        "\n",
        "      print(\"YEAHHHH CONGRATULATIONS ♦♥! you've guessed the {} in {} guesses \".format(secret_num,guess_count1))\n",
        "      break\n",
        "    else:\n",
        "      hint=hints(secret_num,guessed_num)\n",
        "      print(\"NO IT is wrong guess and we will give the hints for next guess here we go☺\")\n",
        "      print(\"Hints:\",hint)\n",
        "  print(\"player 2 has set the number.Now it's time for player1 to guess☺\")\n",
        "\n",
        "  secret_num=input(\"Enter your number that to guess({}digits):\".format(num))\n",
        "  guess_count2=0\n",
        "  while True:\n",
        "\n",
        "    guessed_num=acceptable(num)\n",
        "    guess_count2 +=1\n",
        "    if guessed_num== secret_num:\n",
        "      print(\"YEAHHHH CONGRATULATIONS ♦♥! you've guessed the {} in {} guesses.\".format(secret_num,guess_count2))\n",
        "      break\n",
        "    else:\n",
        "      print(\"sorry it is incorrect guess keep trying\")\n",
        "  if  guess_count1 < guess_count2:\n",
        "    print(\"player 1 is the Champion☺♥\")\n",
        "  elif guess_count1>guess_count2:\n",
        "    print(\"player 2 is the Champion☺♥\")\n",
        "  else:\n",
        "    print(\"It's a tie! Play again \")\n",
        "\n",
        "\n",
        "if __name__==\"__main__\":\n",
        "\n",
        "  # num=int(input(\"Enter the number of digits for the secret number:\"))\n",
        "  master_game()\n",
        "\n",
        "\n",
        "\n",
        "\n",
        "\n",
        "\n"
      ]
    },
    {
      "cell_type": "code",
      "source": [],
      "metadata": {
        "id": "oxCwHZHGE_Wi"
      },
      "execution_count": null,
      "outputs": []
    }
  ]
}