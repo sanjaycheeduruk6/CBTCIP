{
  "nbformat": 4,
  "nbformat_minor": 0,
  "metadata": {
    "colab": {
      "provenance": []
    },
    "kernelspec": {
      "name": "python3",
      "display_name": "Python 3"
    },
    "language_info": {
      "name": "python"
    }
  },
  "cells": [
    {
      "cell_type": "code",
      "execution_count": 34,
      "metadata": {
        "colab": {
          "base_uri": "https://localhost:8080/"
        },
        "id": "Edr9xQ0ZqCBN",
        "outputId": "061d1cb1-4172-4833-ac59-ff29c71147fc"
      },
      "outputs": [
        {
          "output_type": "stream",
          "name": "stdout",
          "text": [
            "WELCOME TO THE GAME ROCK-PAPER-SCISSORS\n",
            "Enter any choice from the[rock,paper and scissors]:Rock\n",
            "player1 choosed rock .player2 choosed scissors\n",
            "player1 won the game\n",
            "Want to play again?(yes/No)yes\n",
            "Enter any choice from the[rock,paper and scissors]:paper\n",
            "player1 choosed paper .player2 choosed scissors\n",
            "player2 won the match\n",
            "Want to play again?(yes/No)no\n",
            "Thanks for playing\n"
          ]
        }
      ],
      "source": [
        "import random\n",
        "def winning(player1,player2):\n",
        "\n",
        "    if player1==player2:\n",
        "      return \"it is a draw match play  again\"\n",
        "    elif player1=='rock' and player2=='paper':\n",
        "      return \"palyer2 won the game\"\n",
        "    elif player1=='rock' and player2=='scissors':\n",
        "      return \"player1 won the game\"\n",
        "    elif player1=='paper' and player2=='rock':\n",
        "      return 'player1 won the game'\n",
        "    elif player1=='paper' and player2=='scissors':\n",
        "      return 'player2 won the match'\n",
        "    elif player1=='scissors' and player2=='rock':\n",
        "      return 'player2 wins the game'\n",
        "    elif player1=='scissors' and player2=='paper':\n",
        "      return 'player1 wins the game'\n",
        "\n",
        "def player1_pick():\n",
        "    while True:\n",
        "      player1=input('Enter any choice from the[rock,paper and scissors]:').lower()\n",
        "      if player1  not in ['rock','paper','scissors']:\n",
        "        print('Enter the valid choice It is not in the choice')\n",
        "      else:\n",
        "        return player1\n",
        "def player2_pick():\n",
        "  return random.choice(['rock','paper','scissors'])\n",
        "\n",
        "\n",
        "\n",
        "\n",
        "\n",
        "\n",
        "\n",
        "def main():\n",
        "    print('WELCOME TO THE GAME ROCK-PAPER-SCISSORS')\n",
        "    while True:\n",
        "      player1=player1_pick()\n",
        "      player2=player2_pick()\n",
        "      print(f'player1 choosed {player1} .player2 choosed {player2}')\n",
        "      print(winning(player1,player2))\n",
        "      Again=input('Want to play again?(yes/No):').lower()\n",
        "      if Again !='yes':\n",
        "        print('Thanks for playing')\n",
        "        break\n",
        "\n",
        "\n",
        "if __name__== \"__main__\":\n",
        "  main()"
      ]
    }
  ]
}